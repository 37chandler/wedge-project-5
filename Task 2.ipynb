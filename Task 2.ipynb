{
 "cells": [
  {
   "cell_type": "code",
   "execution_count": 1,
   "metadata": {},
   "outputs": [
    {
     "name": "stdout",
     "output_type": "stream",
     "text": [
      "                   datetime  register_no  emp_no  trans_no  upc description  \\\n",
      "0 2014-07-01 11:02:46+00:00          5.0    25.0      57.0  TAX         Tax   \n",
      "1 2014-07-01 13:50:13+00:00          4.0    41.0      27.0  TAX         Tax   \n",
      "2 2014-07-03 08:41:45+00:00          3.0    39.0       4.0  TAX         Tax   \n",
      "3 2014-07-05 12:23:44+00:00          8.0    64.0      26.0  TAX         Tax   \n",
      "4 2014-07-05 12:58:03+00:00          6.0    73.0       3.0  TAX         Tax   \n",
      "\n",
      "  trans_type trans_subtype trans_status  department  ...  local  organic  \\\n",
      "0          A          None         None         0.0  ...    0.0      NaN   \n",
      "1          A          None         None         0.0  ...    0.0      NaN   \n",
      "2          A          None         None         0.0  ...    0.0      NaN   \n",
      "3          A          None         None         0.0  ...    0.0      NaN   \n",
      "4          A          None         None         0.0  ...    0.0      NaN   \n",
      "\n",
      "   display  receipt  card_no  store  branch  match_id  trans_id  card_no_1  \n",
      "0     <NA>      0.0  47835.0    1.0     0.0       0.0      18.0    47835.0  \n",
      "1     <NA>      0.0  47851.0    1.0     0.0       0.0      12.0    47851.0  \n",
      "2     <NA>      0.0  48419.0    1.0     0.0       0.0      18.0    48419.0  \n",
      "3     <NA>      0.0  48419.0    1.0     0.0       0.0      22.0    48419.0  \n",
      "4     <NA>      0.0  48419.0    1.0     0.0       0.0      25.0    48419.0  \n",
      "\n",
      "[5 rows x 51 columns]\n"
     ]
    }
   ],
   "source": [
    "import os\n",
    "from google.cloud import bigquery\n",
    "import pandas as pd\n",
    "\n",
    "# JSON file path\n",
    "service_account_path = \"C:\\\\Users\\\\jandr\\\\OneDrive\\\\Desktop\\\\ADA\\\\wedge-project\\\\UMT-MSBA-17ad1778bcbd.json\"\n",
    "\n",
    "# environment variable for authentication\n",
    "os.environ['GOOGLE_APPLICATION_CREDENTIALS'] = service_account_path\n",
    "\n",
    "# BigQuery client\n",
    "client = bigquery.Client()\n",
    "\n",
    "# SQL query\n",
    "sql = \"\"\"\n",
    "WITH sample_cte AS (\n",
    "  SELECT DISTINCT card_no\n",
    "  FROM `umt-msba.transactions.transArchive_*`\n",
    "  WHERE card_no != 3\n",
    "  ORDER BY RAND()\n",
    "  LIMIT 500\n",
    ")\n",
    "SELECT *\n",
    "FROM `umt-msba.wedge_transactions.transArchive_*` AS trans\n",
    "JOIN sample_cte\n",
    "ON sample_cte.card_no = trans.card_no\n",
    "\"\"\"\n",
    "\n",
    "# Run the query and save the results to a pandas DataFrame\n",
    "query_job = client.query(sql)\n",
    "results = query_job.to_dataframe()\n",
    "\n",
    "# Display the first few rows of the DataFrame\n",
    "print(results.head())\n",
    "\n",
    "# Save the DataFrame to a CSV file\n",
    "results.to_csv('query_results.csv', index=False)"
   ]
  }
 ],
 "metadata": {
  "kernelspec": {
   "display_name": "base",
   "language": "python",
   "name": "python3"
  },
  "language_info": {
   "codemirror_mode": {
    "name": "ipython",
    "version": 3
   },
   "file_extension": ".py",
   "mimetype": "text/x-python",
   "name": "python",
   "nbconvert_exporter": "python",
   "pygments_lexer": "ipython3",
   "version": "3.11.4"
  }
 },
 "nbformat": 4,
 "nbformat_minor": 2
}
