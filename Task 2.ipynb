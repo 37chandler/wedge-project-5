{
 "cells": [
  {
   "cell_type": "code",
   "execution_count": null,
   "metadata": {},
   "outputs": [],
   "source": [
    "# Set up your BigQuery client\n",
    "client = bigquery.Client(project='umt-msba')\n",
    "\n",
    "# Your SQL query\n",
    "sql = \"\"\"\n",
    "WITH sample_cte AS (\n",
    "  SELECT DISTINCT card_no\n",
    "  FROM `umt-msba.transactions.transArchive_*`\n",
    "  WHERE card_no != 3\n",
    "  ORDER BY RAND()\n",
    "  LIMIT 500\n",
    ")\n",
    "SELECT *\n",
    "FROM `umt-msba.transactions.transArchive_*` AS trans\n",
    "JOIN sample_cte\n",
    "ON sample_cte.card_no = trans.card_no\n",
    "\"\"\"\n",
    "\n",
    "# Run the query and save the results to a pandas DataFrame\n",
    "query_job = client.query(sql)\n",
    "results = query_job.to_dataframe()\n",
    "\n",
    "# Save the DataFrame to a CSV file\n",
    "results.to_csv('query_results.csv', index=False)"
   ]
  },
  {
   "cell_type": "code",
   "execution_count": null,
   "metadata": {},
   "outputs": [],
   "source": []
  }
 ],
 "metadata": {
  "kernelspec": {
   "display_name": "base",
   "language": "python",
   "name": "python3"
  },
  "language_info": {
   "codemirror_mode": {
    "name": "ipython",
    "version": 3
   },
   "file_extension": ".py",
   "mimetype": "text/x-python",
   "name": "python",
   "nbconvert_exporter": "python",
   "pygments_lexer": "ipython3",
   "version": "3.11.4"
  }
 },
 "nbformat": 4,
 "nbformat_minor": 2
}
