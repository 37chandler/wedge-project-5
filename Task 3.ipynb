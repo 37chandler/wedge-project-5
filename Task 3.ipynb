{
 "cells": [
  {
   "cell_type": "code",
   "execution_count": null,
   "metadata": {},
   "outputs": [],
   "source": [
    "!pip install google-cloud-bigquery pandas\n",
    "!pip install pandas_gbq"
   ]
  },
  {
   "cell_type": "code",
   "execution_count": 3,
   "metadata": {},
   "outputs": [],
   "source": [
    "import os\n",
    "import pandas as pd\n",
    "import numpy as np\n",
    "import pandas_gbq\n",
    "import sqlite3\n",
    "\n",
    "from google.cloud import bigquery\n",
    "from google.oauth2 import service_account"
   ]
  },
  {
   "cell_type": "code",
   "execution_count": 4,
   "metadata": {},
   "outputs": [
    {
     "name": "stdout",
     "output_type": "stream",
     "text": [
      "umt-msba:dram_shop\n",
      "umt-msba:transactions\n",
      "umt-msba:wedge_example\n",
      "umt-msba:wedge_transactions\n"
     ]
    }
   ],
   "source": [
    "service_path = \"C:\\\\Users\\\\jandr\\\\OneDrive\\\\Desktop\\\\ADA\\\\wedge-project\\\\\"\n",
    "service_file = 'umt-msba-gg-key.json' \n",
    "\n",
    "gbq_proj_id = 'umt-msba'  \n",
    "\n",
    "# And this should stay the same. \n",
    "private_key = service_path + service_file\n",
    "# Now we pass in our credentials so that Python has permission to access our project.\n",
    "credentials = service_account.Credentials.from_service_account_file(private_key)\n",
    "# And finally we establish our connection\n",
    "client = bigquery.Client(credentials = credentials, project=gbq_proj_id)\n",
    "for item in client.list_datasets() : \n",
    "    print(item.full_dataset_id)"
   ]
  },
  {
   "cell_type": "code",
   "execution_count": 8,
   "metadata": {},
   "outputs": [],
   "source": [
    "query='''\n",
    "SELECT\n",
    "EXTRACT(YEAR FROM datetime) AS year,\n",
    "EXTRACT(HOUR FROM datetime) AS hour,\n",
    "SUM(total) AS total_spend,\n",
    "COUNT(DISTINCT CONCAT(CAST(EXTRACT(DATE FROM datetime) AS STRING),\n",
    "CAST(register_no AS STRING), CAST(emp_no AS STRING), CAST(trans_no AS STRING))) AS trans,\n",
    "SUM(\n",
    "    CASE WHEN trans_status IN ('V', 'R') THEN -1\n",
    "        ELSE 1\n",
    "    END) AS items\n",
    "FROM `umt-msba.wedge_transactions.transArchive*`\n",
    "WHERE department NOT IN (0, 15) AND (trans_status IS NULL OR trans_status IN (' ', 'V', 'R'))\n",
    "GROUP BY year, hour\n",
    "ORDER BY year, hour\n",
    "'''"
   ]
  },
  {
   "cell_type": "code",
   "execution_count": 9,
   "metadata": {},
   "outputs": [],
   "source": [
    "conn = sqlite3.connect('reporting.db')"
   ]
  },
  {
   "cell_type": "code",
   "execution_count": 10,
   "metadata": {},
   "outputs": [
    {
     "name": "stdout",
     "output_type": "stream",
     "text": [
      "Downloading: 100%|\u001b[32m██████████\u001b[0m|\n"
     ]
    }
   ],
   "source": [
    "holder= pandas_gbq.read_gbq(query, project_id=gbq_proj_id, credentials=credentials)"
   ]
  },
  {
   "cell_type": "code",
   "execution_count": null,
   "metadata": {},
   "outputs": [],
   "source": [
    "#holder.head()"
   ]
  },
  {
   "cell_type": "code",
   "execution_count": 11,
   "metadata": {},
   "outputs": [
    {
     "data": {
      "text/plain": [
       "141"
      ]
     },
     "execution_count": 11,
     "metadata": {},
     "output_type": "execute_result"
    }
   ],
   "source": [
    "holder.to_sql(\"date_hour\", conn, if_exists=\"replace\", index=False)"
   ]
  },
  {
   "cell_type": "code",
   "execution_count": 12,
   "metadata": {},
   "outputs": [],
   "source": [
    "# Query for Sales by owner by year by month\n",
    "query_owner_year_month = '''\n",
    "SELECT\n",
    "  card_no,\n",
    "  EXTRACT(YEAR FROM datetime) AS year,\n",
    "  EXTRACT(MONTH FROM datetime) AS month,\n",
    "  SUM(total) AS sales,\n",
    "  COUNT(DISTINCT trans_id) AS transactions,\n",
    "  SUM(CASE WHEN trans_status IN ('V', 'R') THEN -quantity ELSE quantity END) AS items\n",
    "FROM `umt-msba.wedge_transactions.transArchive*`\n",
    "WHERE department NOT IN (0, 15) AND (trans_status IS NULL OR trans_status IN (' ', 'V', 'R'))\n",
    "GROUP BY card_no, year, month\n",
    "'''\n"
   ]
  },
  {
   "cell_type": "code",
   "execution_count": 13,
   "metadata": {},
   "outputs": [
    {
     "name": "stdout",
     "output_type": "stream",
     "text": [
      "Downloading: 100%|\u001b[32m██████████\u001b[0m|\n"
     ]
    },
    {
     "data": {
      "text/plain": [
       "808896"
      ]
     },
     "execution_count": 13,
     "metadata": {},
     "output_type": "execute_result"
    }
   ],
   "source": [
    "holder_owner_year_month = pandas_gbq.read_gbq(query_owner_year_month, project_id=gbq_proj_id, credentials=credentials)\n",
    "holder_owner_year_month.to_sql(\"sales_owner_year_month\", conn, if_exists=\"replace\", index=False)"
   ]
  },
  {
   "cell_type": "code",
   "execution_count": 26,
   "metadata": {},
   "outputs": [],
   "source": [
    "#Query for Sales by product description by year by month\n",
    "query_prod_year_month = '''\n",
    "SELECT\n",
    "  upc,\n",
    "  description,\n",
    "  department AS department_number,\n",
    "  (SELECT dept_name FROM `umt-msba.wedge_transactions.department_lookup` as A WHERE department.D = department_number.A) AS department_name,\n",
    "  EXTRACT(YEAR FROM datetime) AS year,\n",
    "  EXTRACT(MONTH FROM datetime) AS month,\n",
    "  SUM(total) AS sales,\n",
    "  COUNT(DISTINCT trans_id) AS transactions,\n",
    "  SUM(CASE WHEN trans_status IN ('V', 'R') THEN -quantity ELSE quantity END) AS items\n",
    "FROM `umt-msba.wedge_transactions.transArchive*` as D\n",
    "WHERE department NOT IN (0, 15) AND (trans_status IS NULL OR trans_status IN (' ', 'V', 'R'))\n",
    "GROUP BY upc, description, department_number, department_name, year, month\n",
    "'''"
   ]
  },
  {
   "cell_type": "code",
   "execution_count": 29,
   "metadata": {},
   "outputs": [
    {
     "name": "stdout",
     "output_type": "stream",
     "text": [
      "Downloading: 100%|\u001b[32m██████████\u001b[0m|\n"
     ]
    },
    {
     "data": {
      "text/plain": [
       "1184028"
      ]
     },
     "execution_count": 29,
     "metadata": {},
     "output_type": "execute_result"
    }
   ],
   "source": [
    "holder_prod_year_month = pandas_gbq.read_gbq(query_prod_year_month, project_id=gbq_proj_id, credentials=credentials)\n",
    "holder_prod_year_month.to_sql(\"sales_prod_year_month\", conn, if_exists=\"replace\", index=False)"
   ]
  },
  {
   "cell_type": "code",
   "execution_count": 30,
   "metadata": {},
   "outputs": [
    {
     "data": {
      "text/plain": [
       "<function Connection.close()>"
      ]
     },
     "execution_count": 30,
     "metadata": {},
     "output_type": "execute_result"
    }
   ],
   "source": [
    "conn.close"
   ]
  }
 ],
 "metadata": {
  "kernelspec": {
   "display_name": "base",
   "language": "python",
   "name": "python3"
  },
  "language_info": {
   "codemirror_mode": {
    "name": "ipython",
    "version": 3
   },
   "file_extension": ".py",
   "mimetype": "text/x-python",
   "name": "python",
   "nbconvert_exporter": "python",
   "pygments_lexer": "ipython3",
   "version": "3.11.4"
  }
 },
 "nbformat": 4,
 "nbformat_minor": 2
}
