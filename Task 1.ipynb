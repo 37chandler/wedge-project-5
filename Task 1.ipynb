{
 "cells": [
  {
   "cell_type": "code",
   "execution_count": 1,
   "metadata": {},
   "outputs": [],
   "source": [
    "import glob\n",
    "from google.cloud import bigquery\n",
    "from google.oauth2 import service_account\n"
   ]
  },
  {
   "cell_type": "code",
   "execution_count": 2,
   "metadata": {},
   "outputs": [],
   "source": [
    "credentials = service_account.Credentials.from_service_account_file(\n",
    "    'C:\\\\Users\\\\jandr\\\\OneDrive\\\\Desktop\\\\ADA\\\\wedge-project\\\\wedge-project\\\\documents\\\\wedgep-571de9bd0978.json')\n",
    "\n",
    "client = bigquery.Client(credentials=credentials, project=credentials.project_id)"
   ]
  },
  {
   "cell_type": "code",
   "execution_count": 3,
   "metadata": {},
   "outputs": [],
   "source": [
    "dataset_id = 'transactions'\n",
    "table_id = 'clean'\n",
    "full_table_id = f\"{credentials.project_id}.{dataset_id}.{table_id}\""
   ]
  },
  {
   "cell_type": "code",
   "execution_count": 4,
   "metadata": {},
   "outputs": [],
   "source": [
    "directory_path = 'C:\\\\Users\\\\jandr\\\\OneDrive\\\\Desktop\\\\ADA\\\\wedge-project\\\\wedge-project\\\\data\\\\clean-files\\\\'\n",
    "csv_file_paths = glob.glob(directory_path + '\\\\*.csv')"
   ]
  },
  {
   "cell_type": "code",
   "execution_count": 5,
   "metadata": {},
   "outputs": [],
   "source": [
    "job_config = bigquery.LoadJobConfig(\n",
    "    source_format=bigquery.SourceFormat.CSV,\n",
    "    skip_leading_rows=1,\n",
    "    autodetect=True,\n",
    ")"
   ]
  },
  {
   "cell_type": "code",
   "execution_count": 6,
   "metadata": {},
   "outputs": [],
   "source": [
    "def load_csv_to_bigquery(csv_file_path):\n",
    "    with open(csv_file_path, \"rb\") as source_file:\n",
    "        job = client.load_table_from_file(source_file, full_table_id, job_config=job_config)\n",
    "    job.result()\n",
    "    return job"
   ]
  },
  {
   "cell_type": "code",
   "execution_count": 7,
   "metadata": {},
   "outputs": [
    {
     "name": "stdout",
     "output_type": "stream",
     "text": [
      "Processing file: C:\\Users\\jandr\\OneDrive\\Desktop\\ADA\\wedge-project\\wedge-project\\data\\clean-files\\transArchive_201001_201003_clean.csv\n",
      "Data loaded successfully from C:\\Users\\jandr\\OneDrive\\Desktop\\ADA\\wedge-project\\wedge-project\\data\\clean-files\\transArchive_201001_201003_clean.csv to wedgep.transactions.clean\n",
      "Processing file: C:\\Users\\jandr\\OneDrive\\Desktop\\ADA\\wedge-project\\wedge-project\\data\\clean-files\\transArchive_201004_201006_clean.csv\n"
     ]
    }
   ],
   "source": [
    "for file_path in csv_file_paths:\n",
    "    print(f\"Processing file: {file_path}\")\n",
    "    job = load_csv_to_bigquery(file_path)\n",
    "    if job.errors is None:\n",
    "        print(f\"Data loaded successfully from {file_path} to {full_table_id}\")\n",
    "    else:\n",
    "        print(f\"Errors occurred while loading {file_path}: {job.errors}\")"
   ]
  }
 ],
 "metadata": {
  "kernelspec": {
   "display_name": "base",
   "language": "python",
   "name": "python3"
  },
  "language_info": {
   "codemirror_mode": {
    "name": "ipython",
    "version": 3
   },
   "file_extension": ".py",
   "mimetype": "text/x-python",
   "name": "python",
   "nbconvert_exporter": "python",
   "pygments_lexer": "ipython3",
   "version": "3.11.4"
  }
 },
 "nbformat": 4,
 "nbformat_minor": 2
}
