{
 "cells": [
  {
   "cell_type": "code",
   "execution_count": 1,
   "metadata": {},
   "outputs": [],
   "source": [
    "import glob\n",
    "from google.cloud import bigquery\n",
    "from google.oauth2 import service_account\n"
   ]
  },
  {
   "cell_type": "code",
   "execution_count": 2,
   "metadata": {},
   "outputs": [],
   "source": [
    "credentials = service_account.Credentials.from_service_account_file(\n",
    "    'C:\\\\Users\\\\jandr\\\\OneDrive\\\\Desktop\\\\ADA\\\\wedge-project\\\\wedge-project\\\\documents\\\\wedgep-571de9bd0978.json')\n",
    "\n",
    "client = bigquery.Client(credentials=credentials, project=credentials.project_id)"
   ]
  },
  {
   "cell_type": "code",
   "execution_count": 3,
   "metadata": {},
   "outputs": [],
   "source": [
    "dataset_id = 'transactions'\n",
    "table_id = 'clean'\n",
    "full_table_id = f\"{credentials.project_id}.{dataset_id}.{table_id}\""
   ]
  },
  {
   "cell_type": "code",
   "execution_count": 4,
   "metadata": {},
   "outputs": [],
   "source": [
    "directory_path = 'C:\\\\Users\\\\jandr\\\\OneDrive\\\\Desktop\\\\ADA\\\\wedge-project\\\\wedge-project\\\\data\\\\clean-files\\\\'\n",
    "csv_file_paths = glob.glob(directory_path + '\\\\*.csv')"
   ]
  },
  {
   "cell_type": "code",
   "execution_count": 8,
   "metadata": {},
   "outputs": [],
   "source": [
    "job_config = bigquery.LoadJobConfig(\n",
    "    source_format=bigquery.SourceFormat.CSV,\n",
    "    skip_leading_rows=1,\n",
    "    autodetect=True,  # Detect schema automatically\n",
    "    schema_update_options=[  # Allows the schema of the destination table to be updated\n",
    "        bigquery.SchemaUpdateOption.ALLOW_FIELD_ADDITION,\n",
    "        bigquery.SchemaUpdateOption.ALLOW_FIELD_RELAXATION\n",
    "    ]\n",
    ")"
   ]
  },
  {
   "cell_type": "code",
   "execution_count": 9,
   "metadata": {},
   "outputs": [],
   "source": [
    "def load_csv_to_bigquery(csv_file_path):\n",
    "    with open(csv_file_path, \"rb\") as source_file:\n",
    "        job = client.load_table_from_file(source_file, full_table_id, job_config=job_config)\n",
    "    job.result()\n",
    "    return job"
   ]
  },
  {
   "cell_type": "code",
   "execution_count": 10,
   "metadata": {},
   "outputs": [
    {
     "name": "stdout",
     "output_type": "stream",
     "text": [
      "Processing file: C:\\Users\\jandr\\OneDrive\\Desktop\\ADA\\wedge-project\\wedge-project\\data\\clean-files\\transArchive_201001_201003_clean.csv\n",
      "Data loaded successfully from C:\\Users\\jandr\\OneDrive\\Desktop\\ADA\\wedge-project\\wedge-project\\data\\clean-files\\transArchive_201001_201003_clean.csv to wedgep.transactions.clean\n",
      "Processing file: C:\\Users\\jandr\\OneDrive\\Desktop\\ADA\\wedge-project\\wedge-project\\data\\clean-files\\transArchive_201004_201006_clean.csv\n",
      "Data loaded successfully from C:\\Users\\jandr\\OneDrive\\Desktop\\ADA\\wedge-project\\wedge-project\\data\\clean-files\\transArchive_201004_201006_clean.csv to wedgep.transactions.clean\n",
      "Processing file: C:\\Users\\jandr\\OneDrive\\Desktop\\ADA\\wedge-project\\wedge-project\\data\\clean-files\\transArchive_201007_201009_clean.csv\n",
      "Data loaded successfully from C:\\Users\\jandr\\OneDrive\\Desktop\\ADA\\wedge-project\\wedge-project\\data\\clean-files\\transArchive_201007_201009_clean.csv to wedgep.transactions.clean\n",
      "Processing file: C:\\Users\\jandr\\OneDrive\\Desktop\\ADA\\wedge-project\\wedge-project\\data\\clean-files\\transArchive_201010_201012_clean.csv\n",
      "Data loaded successfully from C:\\Users\\jandr\\OneDrive\\Desktop\\ADA\\wedge-project\\wedge-project\\data\\clean-files\\transArchive_201010_201012_clean.csv to wedgep.transactions.clean\n",
      "Processing file: C:\\Users\\jandr\\OneDrive\\Desktop\\ADA\\wedge-project\\wedge-project\\data\\clean-files\\transArchive_201101_201103_clean.csv\n"
     ]
    },
    {
     "ename": "BadRequest",
     "evalue": "400 Provided Schema does not match Table wedgep:transactions.clean. Field staff has changed type from INTEGER to STRING",
     "output_type": "error",
     "traceback": [
      "\u001b[1;31m---------------------------------------------------------------------------\u001b[0m",
      "\u001b[1;31mBadRequest\u001b[0m                                Traceback (most recent call last)",
      "\u001b[1;32mc:\\Users\\jandr\\OneDrive\\Desktop\\ADA\\wedge-project\\wedge-project\\code\\Task 1.ipynb Cell 7\u001b[0m line \u001b[0;36m3\n\u001b[0;32m      <a href='vscode-notebook-cell:/c%3A/Users/jandr/OneDrive/Desktop/ADA/wedge-project/wedge-project/code/Task%201.ipynb#X14sZmlsZQ%3D%3D?line=0'>1</a>\u001b[0m \u001b[39mfor\u001b[39;00m file_path \u001b[39min\u001b[39;00m csv_file_paths:\n\u001b[0;32m      <a href='vscode-notebook-cell:/c%3A/Users/jandr/OneDrive/Desktop/ADA/wedge-project/wedge-project/code/Task%201.ipynb#X14sZmlsZQ%3D%3D?line=1'>2</a>\u001b[0m     \u001b[39mprint\u001b[39m(\u001b[39mf\u001b[39m\u001b[39m\"\u001b[39m\u001b[39mProcessing file: \u001b[39m\u001b[39m{\u001b[39;00mfile_path\u001b[39m}\u001b[39;00m\u001b[39m\"\u001b[39m)\n\u001b[1;32m----> <a href='vscode-notebook-cell:/c%3A/Users/jandr/OneDrive/Desktop/ADA/wedge-project/wedge-project/code/Task%201.ipynb#X14sZmlsZQ%3D%3D?line=2'>3</a>\u001b[0m     job \u001b[39m=\u001b[39m load_csv_to_bigquery(file_path)\n\u001b[0;32m      <a href='vscode-notebook-cell:/c%3A/Users/jandr/OneDrive/Desktop/ADA/wedge-project/wedge-project/code/Task%201.ipynb#X14sZmlsZQ%3D%3D?line=3'>4</a>\u001b[0m     \u001b[39mif\u001b[39;00m job\u001b[39m.\u001b[39merrors \u001b[39mis\u001b[39;00m \u001b[39mNone\u001b[39;00m:\n\u001b[0;32m      <a href='vscode-notebook-cell:/c%3A/Users/jandr/OneDrive/Desktop/ADA/wedge-project/wedge-project/code/Task%201.ipynb#X14sZmlsZQ%3D%3D?line=4'>5</a>\u001b[0m         \u001b[39mprint\u001b[39m(\u001b[39mf\u001b[39m\u001b[39m\"\u001b[39m\u001b[39mData loaded successfully from \u001b[39m\u001b[39m{\u001b[39;00mfile_path\u001b[39m}\u001b[39;00m\u001b[39m to \u001b[39m\u001b[39m{\u001b[39;00mfull_table_id\u001b[39m}\u001b[39;00m\u001b[39m\"\u001b[39m)\n",
      "\u001b[1;32mc:\\Users\\jandr\\OneDrive\\Desktop\\ADA\\wedge-project\\wedge-project\\code\\Task 1.ipynb Cell 7\u001b[0m line \u001b[0;36m4\n\u001b[0;32m      <a href='vscode-notebook-cell:/c%3A/Users/jandr/OneDrive/Desktop/ADA/wedge-project/wedge-project/code/Task%201.ipynb#X14sZmlsZQ%3D%3D?line=1'>2</a>\u001b[0m \u001b[39mwith\u001b[39;00m \u001b[39mopen\u001b[39m(csv_file_path, \u001b[39m\"\u001b[39m\u001b[39mrb\u001b[39m\u001b[39m\"\u001b[39m) \u001b[39mas\u001b[39;00m source_file:\n\u001b[0;32m      <a href='vscode-notebook-cell:/c%3A/Users/jandr/OneDrive/Desktop/ADA/wedge-project/wedge-project/code/Task%201.ipynb#X14sZmlsZQ%3D%3D?line=2'>3</a>\u001b[0m     job \u001b[39m=\u001b[39m client\u001b[39m.\u001b[39mload_table_from_file(source_file, full_table_id, job_config\u001b[39m=\u001b[39mjob_config)\n\u001b[1;32m----> <a href='vscode-notebook-cell:/c%3A/Users/jandr/OneDrive/Desktop/ADA/wedge-project/wedge-project/code/Task%201.ipynb#X14sZmlsZQ%3D%3D?line=3'>4</a>\u001b[0m job\u001b[39m.\u001b[39mresult()\n\u001b[0;32m      <a href='vscode-notebook-cell:/c%3A/Users/jandr/OneDrive/Desktop/ADA/wedge-project/wedge-project/code/Task%201.ipynb#X14sZmlsZQ%3D%3D?line=4'>5</a>\u001b[0m \u001b[39mreturn\u001b[39;00m job\n",
      "File \u001b[1;32mc:\\Users\\jandr\\anaconda3\\Lib\\site-packages\\google\\cloud\\bigquery\\job\\base.py:922\u001b[0m, in \u001b[0;36m_AsyncJob.result\u001b[1;34m(self, retry, timeout)\u001b[0m\n\u001b[0;32m    919\u001b[0m     \u001b[39mself\u001b[39m\u001b[39m.\u001b[39m_begin(retry\u001b[39m=\u001b[39mretry, timeout\u001b[39m=\u001b[39mtimeout)\n\u001b[0;32m    921\u001b[0m kwargs \u001b[39m=\u001b[39m {} \u001b[39mif\u001b[39;00m retry \u001b[39mis\u001b[39;00m DEFAULT_RETRY \u001b[39melse\u001b[39;00m {\u001b[39m\"\u001b[39m\u001b[39mretry\u001b[39m\u001b[39m\"\u001b[39m: retry}\n\u001b[1;32m--> 922\u001b[0m \u001b[39mreturn\u001b[39;00m \u001b[39msuper\u001b[39m(_AsyncJob, \u001b[39mself\u001b[39m)\u001b[39m.\u001b[39mresult(timeout\u001b[39m=\u001b[39mtimeout, \u001b[39m*\u001b[39m\u001b[39m*\u001b[39mkwargs)\n",
      "File \u001b[1;32mc:\\Users\\jandr\\anaconda3\\Lib\\site-packages\\google\\api_core\\future\\polling.py:261\u001b[0m, in \u001b[0;36mPollingFuture.result\u001b[1;34m(self, timeout, retry, polling)\u001b[0m\n\u001b[0;32m    256\u001b[0m \u001b[39mself\u001b[39m\u001b[39m.\u001b[39m_blocking_poll(timeout\u001b[39m=\u001b[39mtimeout, retry\u001b[39m=\u001b[39mretry, polling\u001b[39m=\u001b[39mpolling)\n\u001b[0;32m    258\u001b[0m \u001b[39mif\u001b[39;00m \u001b[39mself\u001b[39m\u001b[39m.\u001b[39m_exception \u001b[39mis\u001b[39;00m \u001b[39mnot\u001b[39;00m \u001b[39mNone\u001b[39;00m:\n\u001b[0;32m    259\u001b[0m     \u001b[39m# pylint: disable=raising-bad-type\u001b[39;00m\n\u001b[0;32m    260\u001b[0m     \u001b[39m# Pylint doesn't recognize that this is valid in this case.\u001b[39;00m\n\u001b[1;32m--> 261\u001b[0m     \u001b[39mraise\u001b[39;00m \u001b[39mself\u001b[39m\u001b[39m.\u001b[39m_exception\n\u001b[0;32m    263\u001b[0m \u001b[39mreturn\u001b[39;00m \u001b[39mself\u001b[39m\u001b[39m.\u001b[39m_result\n",
      "\u001b[1;31mBadRequest\u001b[0m: 400 Provided Schema does not match Table wedgep:transactions.clean. Field staff has changed type from INTEGER to STRING"
     ]
    }
   ],
   "source": [
    "for file_path in csv_file_paths:\n",
    "    print(f\"Processing file: {file_path}\")\n",
    "    job = load_csv_to_bigquery(file_path)\n",
    "    if job.errors is None:\n",
    "        print(f\"Data loaded successfully from {file_path} to {full_table_id}\")\n",
    "    else:\n",
    "        print(f\"Errors occurred while loading {file_path}: {job.errors}\")"
   ]
  }
 ],
 "metadata": {
  "kernelspec": {
   "display_name": "base",
   "language": "python",
   "name": "python3"
  },
  "language_info": {
   "codemirror_mode": {
    "name": "ipython",
    "version": 3
   },
   "file_extension": ".py",
   "mimetype": "text/x-python",
   "name": "python",
   "nbconvert_exporter": "python",
   "pygments_lexer": "ipython3",
   "version": "3.11.4"
  }
 },
 "nbformat": 4,
 "nbformat_minor": 2
}
