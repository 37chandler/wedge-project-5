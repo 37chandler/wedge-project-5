{
 "cells": [
  {
   "cell_type": "code",
   "execution_count": 1,
   "metadata": {},
   "outputs": [
    {
     "name": "stdout",
     "output_type": "stream",
     "text": [
      "Processing file: C:\\Users\\jandr\\OneDrive\\Desktop\\ADA\\wedge-project\\wedge-project\\data\\clean-files\\transArchive_201001_201003_clean.csv\n",
      "Errors occurred while loading C:\\Users\\jandr\\OneDrive\\Desktop\\ADA\\wedge-project\\wedge-project\\data\\clean-files\\transArchive_201001_201003_clean.csv: object of type <class 'str'> cannot be converted to int\n",
      "Processing file: C:\\Users\\jandr\\OneDrive\\Desktop\\ADA\\wedge-project\\wedge-project\\data\\clean-files\\transArchive_201004_201006_clean.csv\n",
      "Errors occurred while loading C:\\Users\\jandr\\OneDrive\\Desktop\\ADA\\wedge-project\\wedge-project\\data\\clean-files\\transArchive_201004_201006_clean.csv: object of type <class 'str'> cannot be converted to int\n",
      "Processing file: C:\\Users\\jandr\\OneDrive\\Desktop\\ADA\\wedge-project\\wedge-project\\data\\clean-files\\transArchive_201007_201009_clean.csv\n",
      "Errors occurred while loading C:\\Users\\jandr\\OneDrive\\Desktop\\ADA\\wedge-project\\wedge-project\\data\\clean-files\\transArchive_201007_201009_clean.csv: object of type <class 'str'> cannot be converted to int\n",
      "Processing file: C:\\Users\\jandr\\OneDrive\\Desktop\\ADA\\wedge-project\\wedge-project\\data\\clean-files\\transArchive_201010_201012_clean.csv\n"
     ]
    },
    {
     "name": "stderr",
     "output_type": "stream",
     "text": [
      "C:\\Users\\jandr\\AppData\\Local\\Temp\\ipykernel_3844\\2298557470.py:22: DtypeWarning: Columns (43) have mixed types. Specify dtype option on import or set low_memory=False.\n",
      "  df = pd.read_csv(csv_file_path)\n"
     ]
    },
    {
     "name": "stdout",
     "output_type": "stream",
     "text": [
      "Errors occurred while loading C:\\Users\\jandr\\OneDrive\\Desktop\\ADA\\wedge-project\\wedge-project\\data\\clean-files\\transArchive_201010_201012_clean.csv: object of type <class 'str'> cannot be converted to int\n",
      "Processing file: C:\\Users\\jandr\\OneDrive\\Desktop\\ADA\\wedge-project\\wedge-project\\data\\clean-files\\transArchive_201101_201103_clean.csv\n",
      "Errors occurred while loading C:\\Users\\jandr\\OneDrive\\Desktop\\ADA\\wedge-project\\wedge-project\\data\\clean-files\\transArchive_201101_201103_clean.csv: object of type <class 'str'> cannot be converted to int\n",
      "Processing file: C:\\Users\\jandr\\OneDrive\\Desktop\\ADA\\wedge-project\\wedge-project\\data\\clean-files\\transArchive_201104_clean.csv\n",
      "Errors occurred while loading C:\\Users\\jandr\\OneDrive\\Desktop\\ADA\\wedge-project\\wedge-project\\data\\clean-files\\transArchive_201104_clean.csv: object of type <class 'str'> cannot be converted to int\n",
      "Processing file: C:\\Users\\jandr\\OneDrive\\Desktop\\ADA\\wedge-project\\wedge-project\\data\\clean-files\\transArchive_201105_clean.csv\n",
      "Errors occurred while loading C:\\Users\\jandr\\OneDrive\\Desktop\\ADA\\wedge-project\\wedge-project\\data\\clean-files\\transArchive_201105_clean.csv: object of type <class 'str'> cannot be converted to int\n",
      "Processing file: C:\\Users\\jandr\\OneDrive\\Desktop\\ADA\\wedge-project\\wedge-project\\data\\clean-files\\transArchive_201106_clean.csv\n",
      "Errors occurred while loading C:\\Users\\jandr\\OneDrive\\Desktop\\ADA\\wedge-project\\wedge-project\\data\\clean-files\\transArchive_201106_clean.csv: object of type <class 'str'> cannot be converted to int\n",
      "Processing file: C:\\Users\\jandr\\OneDrive\\Desktop\\ADA\\wedge-project\\wedge-project\\data\\clean-files\\transArchive_201107_201109_clean.csv\n",
      "Errors occurred while loading C:\\Users\\jandr\\OneDrive\\Desktop\\ADA\\wedge-project\\wedge-project\\data\\clean-files\\transArchive_201107_201109_clean.csv: object of type <class 'str'> cannot be converted to int\n",
      "Processing file: C:\\Users\\jandr\\OneDrive\\Desktop\\ADA\\wedge-project\\wedge-project\\data\\clean-files\\transArchive_201110_201112_clean.csv\n",
      "Errors occurred while loading C:\\Users\\jandr\\OneDrive\\Desktop\\ADA\\wedge-project\\wedge-project\\data\\clean-files\\transArchive_201110_201112_clean.csv: object of type <class 'str'> cannot be converted to int\n",
      "Processing file: C:\\Users\\jandr\\OneDrive\\Desktop\\ADA\\wedge-project\\wedge-project\\data\\clean-files\\transArchive_201201_201203_clean.csv\n",
      "Errors occurred while loading C:\\Users\\jandr\\OneDrive\\Desktop\\ADA\\wedge-project\\wedge-project\\data\\clean-files\\transArchive_201201_201203_clean.csv: object of type <class 'str'> cannot be converted to int\n",
      "Processing file: C:\\Users\\jandr\\OneDrive\\Desktop\\ADA\\wedge-project\\wedge-project\\data\\clean-files\\transArchive_201201_201203_inactive_clean.csv\n",
      "Errors occurred while loading C:\\Users\\jandr\\OneDrive\\Desktop\\ADA\\wedge-project\\wedge-project\\data\\clean-files\\transArchive_201201_201203_inactive_clean.csv: object of type <class 'str'> cannot be converted to int\n",
      "Processing file: C:\\Users\\jandr\\OneDrive\\Desktop\\ADA\\wedge-project\\wedge-project\\data\\clean-files\\transArchive_201204_201206_clean.csv\n"
     ]
    },
    {
     "name": "stderr",
     "output_type": "stream",
     "text": [
      "C:\\Users\\jandr\\AppData\\Local\\Temp\\ipykernel_3844\\2298557470.py:22: DtypeWarning: Columns (33) have mixed types. Specify dtype option on import or set low_memory=False.\n",
      "  df = pd.read_csv(csv_file_path)\n"
     ]
    },
    {
     "name": "stdout",
     "output_type": "stream",
     "text": [
      "Errors occurred while loading C:\\Users\\jandr\\OneDrive\\Desktop\\ADA\\wedge-project\\wedge-project\\data\\clean-files\\transArchive_201204_201206_clean.csv: object of type <class 'str'> cannot be converted to int\n",
      "Processing file: C:\\Users\\jandr\\OneDrive\\Desktop\\ADA\\wedge-project\\wedge-project\\data\\clean-files\\transArchive_201204_201206_inactive_clean.csv\n",
      "Errors occurred while loading C:\\Users\\jandr\\OneDrive\\Desktop\\ADA\\wedge-project\\wedge-project\\data\\clean-files\\transArchive_201204_201206_inactive_clean.csv: object of type <class 'str'> cannot be converted to int\n",
      "Processing file: C:\\Users\\jandr\\OneDrive\\Desktop\\ADA\\wedge-project\\wedge-project\\data\\clean-files\\transArchive_201207_201209_clean.csv\n"
     ]
    },
    {
     "name": "stderr",
     "output_type": "stream",
     "text": [
      "C:\\Users\\jandr\\AppData\\Local\\Temp\\ipykernel_3844\\2298557470.py:22: DtypeWarning: Columns (33) have mixed types. Specify dtype option on import or set low_memory=False.\n",
      "  df = pd.read_csv(csv_file_path)\n"
     ]
    },
    {
     "name": "stdout",
     "output_type": "stream",
     "text": [
      "Errors occurred while loading C:\\Users\\jandr\\OneDrive\\Desktop\\ADA\\wedge-project\\wedge-project\\data\\clean-files\\transArchive_201207_201209_clean.csv: object of type <class 'str'> cannot be converted to int\n",
      "Processing file: C:\\Users\\jandr\\OneDrive\\Desktop\\ADA\\wedge-project\\wedge-project\\data\\clean-files\\transArchive_201207_201209_inactive_clean.csv\n"
     ]
    },
    {
     "name": "stderr",
     "output_type": "stream",
     "text": [
      "C:\\Users\\jandr\\AppData\\Local\\Temp\\ipykernel_3844\\2298557470.py:22: DtypeWarning: Columns (33) have mixed types. Specify dtype option on import or set low_memory=False.\n",
      "  df = pd.read_csv(csv_file_path)\n"
     ]
    },
    {
     "name": "stdout",
     "output_type": "stream",
     "text": [
      "Errors occurred while loading C:\\Users\\jandr\\OneDrive\\Desktop\\ADA\\wedge-project\\wedge-project\\data\\clean-files\\transArchive_201207_201209_inactive_clean.csv: object of type <class 'str'> cannot be converted to int\n",
      "Processing file: C:\\Users\\jandr\\OneDrive\\Desktop\\ADA\\wedge-project\\wedge-project\\data\\clean-files\\transArchive_201210_201212_clean.csv\n"
     ]
    },
    {
     "name": "stderr",
     "output_type": "stream",
     "text": [
      "C:\\Users\\jandr\\AppData\\Local\\Temp\\ipykernel_3844\\2298557470.py:22: DtypeWarning: Columns (33) have mixed types. Specify dtype option on import or set low_memory=False.\n",
      "  df = pd.read_csv(csv_file_path)\n"
     ]
    },
    {
     "name": "stdout",
     "output_type": "stream",
     "text": [
      "Errors occurred while loading C:\\Users\\jandr\\OneDrive\\Desktop\\ADA\\wedge-project\\wedge-project\\data\\clean-files\\transArchive_201210_201212_clean.csv: object of type <class 'str'> cannot be converted to int\n",
      "Processing file: C:\\Users\\jandr\\OneDrive\\Desktop\\ADA\\wedge-project\\wedge-project\\data\\clean-files\\transArchive_201210_201212_inactive_clean.csv\n"
     ]
    },
    {
     "name": "stderr",
     "output_type": "stream",
     "text": [
      "C:\\Users\\jandr\\AppData\\Local\\Temp\\ipykernel_3844\\2298557470.py:22: DtypeWarning: Columns (33) have mixed types. Specify dtype option on import or set low_memory=False.\n",
      "  df = pd.read_csv(csv_file_path)\n"
     ]
    },
    {
     "name": "stdout",
     "output_type": "stream",
     "text": [
      "Errors occurred while loading C:\\Users\\jandr\\OneDrive\\Desktop\\ADA\\wedge-project\\wedge-project\\data\\clean-files\\transArchive_201210_201212_inactive_clean.csv: object of type <class 'str'> cannot be converted to int\n",
      "Processing file: C:\\Users\\jandr\\OneDrive\\Desktop\\ADA\\wedge-project\\wedge-project\\data\\clean-files\\transArchive_201301_201303_clean.csv\n"
     ]
    },
    {
     "name": "stderr",
     "output_type": "stream",
     "text": [
      "C:\\Users\\jandr\\AppData\\Local\\Temp\\ipykernel_3844\\2298557470.py:22: DtypeWarning: Columns (33) have mixed types. Specify dtype option on import or set low_memory=False.\n",
      "  df = pd.read_csv(csv_file_path)\n"
     ]
    },
    {
     "name": "stdout",
     "output_type": "stream",
     "text": [
      "Errors occurred while loading C:\\Users\\jandr\\OneDrive\\Desktop\\ADA\\wedge-project\\wedge-project\\data\\clean-files\\transArchive_201301_201303_clean.csv: object of type <class 'str'> cannot be converted to int\n",
      "Processing file: C:\\Users\\jandr\\OneDrive\\Desktop\\ADA\\wedge-project\\wedge-project\\data\\clean-files\\transArchive_201301_201303_inactive_clean.csv\n"
     ]
    },
    {
     "name": "stderr",
     "output_type": "stream",
     "text": [
      "C:\\Users\\jandr\\AppData\\Local\\Temp\\ipykernel_3844\\2298557470.py:22: DtypeWarning: Columns (33) have mixed types. Specify dtype option on import or set low_memory=False.\n",
      "  df = pd.read_csv(csv_file_path)\n"
     ]
    },
    {
     "name": "stdout",
     "output_type": "stream",
     "text": [
      "Errors occurred while loading C:\\Users\\jandr\\OneDrive\\Desktop\\ADA\\wedge-project\\wedge-project\\data\\clean-files\\transArchive_201301_201303_inactive_clean.csv: object of type <class 'str'> cannot be converted to int\n",
      "Processing file: C:\\Users\\jandr\\OneDrive\\Desktop\\ADA\\wedge-project\\wedge-project\\data\\clean-files\\transArchive_201304_201306_clean.csv\n"
     ]
    },
    {
     "name": "stderr",
     "output_type": "stream",
     "text": [
      "C:\\Users\\jandr\\AppData\\Local\\Temp\\ipykernel_3844\\2298557470.py:22: DtypeWarning: Columns (33) have mixed types. Specify dtype option on import or set low_memory=False.\n",
      "  df = pd.read_csv(csv_file_path)\n"
     ]
    },
    {
     "name": "stdout",
     "output_type": "stream",
     "text": [
      "Errors occurred while loading C:\\Users\\jandr\\OneDrive\\Desktop\\ADA\\wedge-project\\wedge-project\\data\\clean-files\\transArchive_201304_201306_clean.csv: object of type <class 'str'> cannot be converted to int\n",
      "Processing file: C:\\Users\\jandr\\OneDrive\\Desktop\\ADA\\wedge-project\\wedge-project\\data\\clean-files\\transArchive_201304_201306_inactive_clean.csv\n"
     ]
    },
    {
     "name": "stderr",
     "output_type": "stream",
     "text": [
      "C:\\Users\\jandr\\AppData\\Local\\Temp\\ipykernel_3844\\2298557470.py:22: DtypeWarning: Columns (33) have mixed types. Specify dtype option on import or set low_memory=False.\n",
      "  df = pd.read_csv(csv_file_path)\n"
     ]
    },
    {
     "name": "stdout",
     "output_type": "stream",
     "text": [
      "Errors occurred while loading C:\\Users\\jandr\\OneDrive\\Desktop\\ADA\\wedge-project\\wedge-project\\data\\clean-files\\transArchive_201304_201306_inactive_clean.csv: object of type <class 'str'> cannot be converted to int\n",
      "Processing file: C:\\Users\\jandr\\OneDrive\\Desktop\\ADA\\wedge-project\\wedge-project\\data\\clean-files\\transArchive_201307_201309_clean.csv\n"
     ]
    },
    {
     "name": "stderr",
     "output_type": "stream",
     "text": [
      "C:\\Users\\jandr\\AppData\\Local\\Temp\\ipykernel_3844\\2298557470.py:22: DtypeWarning: Columns (33) have mixed types. Specify dtype option on import or set low_memory=False.\n",
      "  df = pd.read_csv(csv_file_path)\n"
     ]
    },
    {
     "name": "stdout",
     "output_type": "stream",
     "text": [
      "Errors occurred while loading C:\\Users\\jandr\\OneDrive\\Desktop\\ADA\\wedge-project\\wedge-project\\data\\clean-files\\transArchive_201307_201309_clean.csv: object of type <class 'str'> cannot be converted to int\n",
      "Processing file: C:\\Users\\jandr\\OneDrive\\Desktop\\ADA\\wedge-project\\wedge-project\\data\\clean-files\\transArchive_201307_201309_inactive_clean.csv\n",
      "Errors occurred while loading C:\\Users\\jandr\\OneDrive\\Desktop\\ADA\\wedge-project\\wedge-project\\data\\clean-files\\transArchive_201307_201309_inactive_clean.csv: object of type <class 'str'> cannot be converted to int\n",
      "Processing file: C:\\Users\\jandr\\OneDrive\\Desktop\\ADA\\wedge-project\\wedge-project\\data\\clean-files\\transArchive_201310_201312_clean.csv\n"
     ]
    },
    {
     "name": "stderr",
     "output_type": "stream",
     "text": [
      "C:\\Users\\jandr\\AppData\\Local\\Temp\\ipykernel_3844\\2298557470.py:22: DtypeWarning: Columns (33,43) have mixed types. Specify dtype option on import or set low_memory=False.\n",
      "  df = pd.read_csv(csv_file_path)\n"
     ]
    },
    {
     "name": "stdout",
     "output_type": "stream",
     "text": [
      "Errors occurred while loading C:\\Users\\jandr\\OneDrive\\Desktop\\ADA\\wedge-project\\wedge-project\\data\\clean-files\\transArchive_201310_201312_clean.csv: object of type <class 'str'> cannot be converted to int\n",
      "Processing file: C:\\Users\\jandr\\OneDrive\\Desktop\\ADA\\wedge-project\\wedge-project\\data\\clean-files\\transArchive_201310_201312_inactive_clean.csv\n",
      "Errors occurred while loading C:\\Users\\jandr\\OneDrive\\Desktop\\ADA\\wedge-project\\wedge-project\\data\\clean-files\\transArchive_201310_201312_inactive_clean.csv: object of type <class 'str'> cannot be converted to int\n",
      "Processing file: C:\\Users\\jandr\\OneDrive\\Desktop\\ADA\\wedge-project\\wedge-project\\data\\clean-files\\transArchive_201401_201403_clean.csv\n"
     ]
    },
    {
     "name": "stderr",
     "output_type": "stream",
     "text": [
      "C:\\Users\\jandr\\AppData\\Local\\Temp\\ipykernel_3844\\2298557470.py:22: DtypeWarning: Columns (33,43) have mixed types. Specify dtype option on import or set low_memory=False.\n",
      "  df = pd.read_csv(csv_file_path)\n"
     ]
    },
    {
     "name": "stdout",
     "output_type": "stream",
     "text": [
      "Errors occurred while loading C:\\Users\\jandr\\OneDrive\\Desktop\\ADA\\wedge-project\\wedge-project\\data\\clean-files\\transArchive_201401_201403_clean.csv: object of type <class 'str'> cannot be converted to int\n",
      "Processing file: C:\\Users\\jandr\\OneDrive\\Desktop\\ADA\\wedge-project\\wedge-project\\data\\clean-files\\transArchive_201401_201403_inactive_clean.csv\n"
     ]
    },
    {
     "name": "stderr",
     "output_type": "stream",
     "text": [
      "C:\\Users\\jandr\\AppData\\Local\\Temp\\ipykernel_3844\\2298557470.py:22: DtypeWarning: Columns (43) have mixed types. Specify dtype option on import or set low_memory=False.\n",
      "  df = pd.read_csv(csv_file_path)\n"
     ]
    },
    {
     "name": "stdout",
     "output_type": "stream",
     "text": [
      "Errors occurred while loading C:\\Users\\jandr\\OneDrive\\Desktop\\ADA\\wedge-project\\wedge-project\\data\\clean-files\\transArchive_201401_201403_inactive_clean.csv: object of type <class 'str'> cannot be converted to int\n",
      "Processing file: C:\\Users\\jandr\\OneDrive\\Desktop\\ADA\\wedge-project\\wedge-project\\data\\clean-files\\transArchive_201404_201406_clean.csv\n"
     ]
    },
    {
     "name": "stderr",
     "output_type": "stream",
     "text": [
      "C:\\Users\\jandr\\AppData\\Local\\Temp\\ipykernel_3844\\2298557470.py:22: DtypeWarning: Columns (33,43) have mixed types. Specify dtype option on import or set low_memory=False.\n",
      "  df = pd.read_csv(csv_file_path)\n"
     ]
    },
    {
     "name": "stdout",
     "output_type": "stream",
     "text": [
      "Errors occurred while loading C:\\Users\\jandr\\OneDrive\\Desktop\\ADA\\wedge-project\\wedge-project\\data\\clean-files\\transArchive_201404_201406_clean.csv: object of type <class 'str'> cannot be converted to int\n",
      "Processing file: C:\\Users\\jandr\\OneDrive\\Desktop\\ADA\\wedge-project\\wedge-project\\data\\clean-files\\transArchive_201404_201406_inactive_clean.csv\n",
      "Errors occurred while loading C:\\Users\\jandr\\OneDrive\\Desktop\\ADA\\wedge-project\\wedge-project\\data\\clean-files\\transArchive_201404_201406_inactive_clean.csv: object of type <class 'str'> cannot be converted to int\n",
      "Processing file: C:\\Users\\jandr\\OneDrive\\Desktop\\ADA\\wedge-project\\wedge-project\\data\\clean-files\\transArchive_201407_201409_clean.csv\n",
      "Errors occurred while loading C:\\Users\\jandr\\OneDrive\\Desktop\\ADA\\wedge-project\\wedge-project\\data\\clean-files\\transArchive_201407_201409_clean.csv: object of type <class 'str'> cannot be converted to int\n",
      "Processing file: C:\\Users\\jandr\\OneDrive\\Desktop\\ADA\\wedge-project\\wedge-project\\data\\clean-files\\transArchive_201407_201409_inactive_clean.csv\n",
      "Errors occurred while loading C:\\Users\\jandr\\OneDrive\\Desktop\\ADA\\wedge-project\\wedge-project\\data\\clean-files\\transArchive_201407_201409_inactive_clean.csv: object of type <class 'str'> cannot be converted to int\n",
      "Processing file: C:\\Users\\jandr\\OneDrive\\Desktop\\ADA\\wedge-project\\wedge-project\\data\\clean-files\\transArchive_201410_201412_clean.csv\n",
      "Errors occurred while loading C:\\Users\\jandr\\OneDrive\\Desktop\\ADA\\wedge-project\\wedge-project\\data\\clean-files\\transArchive_201410_201412_clean.csv: object of type <class 'str'> cannot be converted to int\n",
      "Processing file: C:\\Users\\jandr\\OneDrive\\Desktop\\ADA\\wedge-project\\wedge-project\\data\\clean-files\\transArchive_201410_201412_inactive_clean.csv\n",
      "Errors occurred while loading C:\\Users\\jandr\\OneDrive\\Desktop\\ADA\\wedge-project\\wedge-project\\data\\clean-files\\transArchive_201410_201412_inactive_clean.csv: object of type <class 'str'> cannot be converted to int\n",
      "Processing file: C:\\Users\\jandr\\OneDrive\\Desktop\\ADA\\wedge-project\\wedge-project\\data\\clean-files\\transArchive_201501_201503_clean.csv\n",
      "Errors occurred while loading C:\\Users\\jandr\\OneDrive\\Desktop\\ADA\\wedge-project\\wedge-project\\data\\clean-files\\transArchive_201501_201503_clean.csv: object of type <class 'str'> cannot be converted to int\n",
      "Processing file: C:\\Users\\jandr\\OneDrive\\Desktop\\ADA\\wedge-project\\wedge-project\\data\\clean-files\\transArchive_201504_201506_clean.csv\n",
      "Errors occurred while loading C:\\Users\\jandr\\OneDrive\\Desktop\\ADA\\wedge-project\\wedge-project\\data\\clean-files\\transArchive_201504_201506_clean.csv: object of type <class 'str'> cannot be converted to int\n",
      "Processing file: C:\\Users\\jandr\\OneDrive\\Desktop\\ADA\\wedge-project\\wedge-project\\data\\clean-files\\transArchive_201507_201509_clean.csv\n",
      "Errors occurred while loading C:\\Users\\jandr\\OneDrive\\Desktop\\ADA\\wedge-project\\wedge-project\\data\\clean-files\\transArchive_201507_201509_clean.csv: object of type <class 'str'> cannot be converted to int\n",
      "Processing file: C:\\Users\\jandr\\OneDrive\\Desktop\\ADA\\wedge-project\\wedge-project\\data\\clean-files\\transArchive_201510_clean.csv\n",
      "Errors occurred while loading C:\\Users\\jandr\\OneDrive\\Desktop\\ADA\\wedge-project\\wedge-project\\data\\clean-files\\transArchive_201510_clean.csv: object of type <class 'str'> cannot be converted to int\n",
      "Processing file: C:\\Users\\jandr\\OneDrive\\Desktop\\ADA\\wedge-project\\wedge-project\\data\\clean-files\\transArchive_201511_clean.csv\n",
      "Errors occurred while loading C:\\Users\\jandr\\OneDrive\\Desktop\\ADA\\wedge-project\\wedge-project\\data\\clean-files\\transArchive_201511_clean.csv: object of type <class 'str'> cannot be converted to int\n",
      "Processing file: C:\\Users\\jandr\\OneDrive\\Desktop\\ADA\\wedge-project\\wedge-project\\data\\clean-files\\transArchive_201512_clean.csv\n",
      "Errors occurred while loading C:\\Users\\jandr\\OneDrive\\Desktop\\ADA\\wedge-project\\wedge-project\\data\\clean-files\\transArchive_201512_clean.csv: object of type <class 'str'> cannot be converted to int\n",
      "Processing file: C:\\Users\\jandr\\OneDrive\\Desktop\\ADA\\wedge-project\\wedge-project\\data\\clean-files\\transArchive_201601_clean.csv\n",
      "Errors occurred while loading C:\\Users\\jandr\\OneDrive\\Desktop\\ADA\\wedge-project\\wedge-project\\data\\clean-files\\transArchive_201601_clean.csv: object of type <class 'str'> cannot be converted to int\n",
      "Processing file: C:\\Users\\jandr\\OneDrive\\Desktop\\ADA\\wedge-project\\wedge-project\\data\\clean-files\\transArchive_201602_clean.csv\n",
      "Errors occurred while loading C:\\Users\\jandr\\OneDrive\\Desktop\\ADA\\wedge-project\\wedge-project\\data\\clean-files\\transArchive_201602_clean.csv: object of type <class 'str'> cannot be converted to int\n",
      "Processing file: C:\\Users\\jandr\\OneDrive\\Desktop\\ADA\\wedge-project\\wedge-project\\data\\clean-files\\transArchive_201603_clean.csv\n",
      "Errors occurred while loading C:\\Users\\jandr\\OneDrive\\Desktop\\ADA\\wedge-project\\wedge-project\\data\\clean-files\\transArchive_201603_clean.csv: object of type <class 'str'> cannot be converted to int\n",
      "Processing file: C:\\Users\\jandr\\OneDrive\\Desktop\\ADA\\wedge-project\\wedge-project\\data\\clean-files\\transArchive_201604_clean.csv\n",
      "Errors occurred while loading C:\\Users\\jandr\\OneDrive\\Desktop\\ADA\\wedge-project\\wedge-project\\data\\clean-files\\transArchive_201604_clean.csv: object of type <class 'str'> cannot be converted to int\n",
      "Processing file: C:\\Users\\jandr\\OneDrive\\Desktop\\ADA\\wedge-project\\wedge-project\\data\\clean-files\\transArchive_201605_clean.csv\n",
      "Errors occurred while loading C:\\Users\\jandr\\OneDrive\\Desktop\\ADA\\wedge-project\\wedge-project\\data\\clean-files\\transArchive_201605_clean.csv: object of type <class 'str'> cannot be converted to int\n",
      "Processing file: C:\\Users\\jandr\\OneDrive\\Desktop\\ADA\\wedge-project\\wedge-project\\data\\clean-files\\transArchive_201606_clean.csv\n",
      "Errors occurred while loading C:\\Users\\jandr\\OneDrive\\Desktop\\ADA\\wedge-project\\wedge-project\\data\\clean-files\\transArchive_201606_clean.csv: object of type <class 'str'> cannot be converted to int\n",
      "Processing file: C:\\Users\\jandr\\OneDrive\\Desktop\\ADA\\wedge-project\\wedge-project\\data\\clean-files\\transArchive_201607_clean.csv\n",
      "Errors occurred while loading C:\\Users\\jandr\\OneDrive\\Desktop\\ADA\\wedge-project\\wedge-project\\data\\clean-files\\transArchive_201607_clean.csv: object of type <class 'str'> cannot be converted to int\n",
      "Processing file: C:\\Users\\jandr\\OneDrive\\Desktop\\ADA\\wedge-project\\wedge-project\\data\\clean-files\\transArchive_201608_clean.csv\n",
      "Errors occurred while loading C:\\Users\\jandr\\OneDrive\\Desktop\\ADA\\wedge-project\\wedge-project\\data\\clean-files\\transArchive_201608_clean.csv: object of type <class 'str'> cannot be converted to int\n",
      "Processing file: C:\\Users\\jandr\\OneDrive\\Desktop\\ADA\\wedge-project\\wedge-project\\data\\clean-files\\transArchive_201609_clean.csv\n",
      "Errors occurred while loading C:\\Users\\jandr\\OneDrive\\Desktop\\ADA\\wedge-project\\wedge-project\\data\\clean-files\\transArchive_201609_clean.csv: object of type <class 'str'> cannot be converted to int\n",
      "Processing file: C:\\Users\\jandr\\OneDrive\\Desktop\\ADA\\wedge-project\\wedge-project\\data\\clean-files\\transArchive_201610_clean.csv\n",
      "Errors occurred while loading C:\\Users\\jandr\\OneDrive\\Desktop\\ADA\\wedge-project\\wedge-project\\data\\clean-files\\transArchive_201610_clean.csv: object of type <class 'str'> cannot be converted to int\n",
      "Processing file: C:\\Users\\jandr\\OneDrive\\Desktop\\ADA\\wedge-project\\wedge-project\\data\\clean-files\\transArchive_201611_clean.csv\n",
      "Errors occurred while loading C:\\Users\\jandr\\OneDrive\\Desktop\\ADA\\wedge-project\\wedge-project\\data\\clean-files\\transArchive_201611_clean.csv: object of type <class 'str'> cannot be converted to int\n",
      "Processing file: C:\\Users\\jandr\\OneDrive\\Desktop\\ADA\\wedge-project\\wedge-project\\data\\clean-files\\transArchive_201612_clean.csv\n",
      "Errors occurred while loading C:\\Users\\jandr\\OneDrive\\Desktop\\ADA\\wedge-project\\wedge-project\\data\\clean-files\\transArchive_201612_clean.csv: object of type <class 'str'> cannot be converted to int\n",
      "Processing file: C:\\Users\\jandr\\OneDrive\\Desktop\\ADA\\wedge-project\\wedge-project\\data\\clean-files\\transArchive_201701_clean.csv\n",
      "Errors occurred while loading C:\\Users\\jandr\\OneDrive\\Desktop\\ADA\\wedge-project\\wedge-project\\data\\clean-files\\transArchive_201701_clean.csv: object of type <class 'str'> cannot be converted to int\n"
     ]
    }
   ],
   "source": [
    "import glob\n",
    "import pandas as pd\n",
    "from pandas_gbq import to_gbq\n",
    "from google.oauth2 import service_account\n",
    "\n",
    "# Set up your Google Cloud credentials\n",
    "credentials = service_account.Credentials.from_service_account_file(\n",
    "    'C:\\\\Users\\\\jandr\\\\OneDrive\\\\Desktop\\\\ADA\\\\wedge-project\\\\wedge-project\\\\documents\\\\wedgep-571de9bd0978.json')\n",
    "\n",
    "# Define your BigQuery dataset and table\n",
    "project_id = credentials.project_id\n",
    "dataset_id = 'transactions'\n",
    "table_id = 'clean'\n",
    "full_table_id = f\"{dataset_id}.{table_id}\"\n",
    "\n",
    "# Directory containing your CSV files\n",
    "directory_path = 'C:\\\\Users\\\\jandr\\\\OneDrive\\\\Desktop\\\\ADA\\\\wedge-project\\\\wedge-project\\\\data\\\\clean-files\\\\'\n",
    "csv_file_paths = glob.glob(directory_path + '\\\\*.csv')\n",
    "\n",
    "# Function to load a single file using Pandas\n",
    "def load_csv_to_bigquery_pandas(csv_file_path):\n",
    "    df = pd.read_csv(csv_file_path)\n",
    "    # If needed, you can perform any data preprocessing here\n",
    "    to_gbq(df, full_table_id, project_id=project_id, credentials=credentials, if_exists='append')\n",
    "\n",
    "# Iterate through the list and upload each file\n",
    "for file_path in csv_file_paths:\n",
    "    print(f\"Processing file: {file_path}\")\n",
    "    try:\n",
    "        load_csv_to_bigquery_pandas(file_path)\n",
    "        print(f\"Data loaded successfully from {file_path} to {full_table_id}\")\n",
    "    except Exception as e:\n",
    "        print(f\"Errors occurred while loading {file_path}: {e}\")\n"
   ]
  }
 ],
 "metadata": {
  "kernelspec": {
   "display_name": "base",
   "language": "python",
   "name": "python3"
  },
  "language_info": {
   "codemirror_mode": {
    "name": "ipython",
    "version": 3
   },
   "file_extension": ".py",
   "mimetype": "text/x-python",
   "name": "python",
   "nbconvert_exporter": "python",
   "pygments_lexer": "ipython3",
   "version": "3.11.4"
  }
 },
 "nbformat": 4,
 "nbformat_minor": 2
}
